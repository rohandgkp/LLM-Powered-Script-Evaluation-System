{
 "cells": [
  {
   "cell_type": "code",
   "execution_count": 2,
   "metadata": {
    "id": "WEuldKQqy8wn"
   },
   "outputs": [],
   "source": [
    "question = \"What is the capital of France?\"\n",
    "key_answer = \"Paris is the capital of France.\"\n",
    "student_answer = \"New Delhi.\""
   ]
  },
  {
   "cell_type": "code",
   "execution_count": 6,
   "metadata": {
    "id": "r3DKe7bIzah9"
   },
   "outputs": [],
   "source": [
    "import time\n",
    "from tqdm import tqdm\n",
    "import pathlib\n",
    "import google.generativeai as genai\n",
    "#import chromadb\n",
    "#from chromadb import Documents, EmbeddingFunction, Embeddings\n",
    "import pandas as pd\n",
    "#from PIL import Image\n",
    "#import pytesseract\n",
    "from IPython.display import Markdown"
   ]
  },
  {
   "cell_type": "code",
   "execution_count": 10,
   "metadata": {
    "id": "eYLEt9BizT2Q"
   },
   "outputs": [],
   "source": [
    "from google.colab import userdata\n",
    "GOOGLE_API_KEY=userdata.get('GOOGLE_API_KEY')\n",
    "\n",
    "genai.configure(api_key=GOOGLE_API_KEY)"
   ]
  },
  {
   "cell_type": "code",
   "execution_count": null,
   "metadata": {
    "id": "MGKFcipZyba2"
   },
   "outputs": [],
   "source": [
    "# Configure the GenAI API key\n",
    "GOOGLE_API_KEY = userdata.get('GOOGLE_API_KEY')\n",
    "genai.configure(api_key=GOOGLE_API_KEY)\n",
    "\n",
    "# Initialize the model\n",
    "safety_settings = {}  # Define any safety settings if needed\n",
    "model = genai.GenerativeModel('models/gemini-1.5-flash', safety_settings=safety_settings)\n",
    "\n",
    "def evaluate_script(model, question, student_answer, key_answer):\n",
    "    # Construct the prompt with clear evaluation criteria\n",
    "    prompt = f\"\"\"Evaluate the student's answer based on the following criteria:\n",
    "    1. Correctness: Does the student answer match the key answer in terms of main points and facts?\n",
    "    2. Completeness: Is the answer fully addressing the question and covering all necessary parts of the key answer?\n",
    "    3. Use of Key Terms: Are key terms from the key answer included appropriately?\n",
    "    4. Clarity: Is the answer clear and well-organized?\n",
    "\n",
    "    Assign a score out of 10, provide a brief explanation of the score, and suggest areas for improvement if needed.\n",
    "\n",
    "    Question: {question}\n",
    "    Key Answer: {key_answer}\n",
    "    Student Answer: {student_answer}\"\"\"\n",
    "\n",
    "    try:\n",
    "        # Generate response using the model's predict method (or an alternative method if needed)\n",
    "        response = model.generate_content(prompt)\n",
    "\n",
    "        #print(\"Full Response Object:\", response)\n",
    "\n",
    "        # Attempt to access nested fields safely and see structure at each level\n",
    "        #print(\"Response Result:\", response.result)\n",
    "        #print(\"Candidates:\", response.result.candidates)\n",
    "        #print(\"Content Parts:\", response.result.candidates[0].content.parts)\n",
    "\n",
    "        # Access the evaluation text within the response structure\n",
    "        evaluation = response.candidates[0].content.parts[0].text.strip()\n",
    "        #evaluation = response.result.candidates[0].content.parts[0].text.strip()\n",
    "        return evaluation\n",
    "    except Exception as e:\n",
    "        print(\"An error occurred:\", e)\n",
    "        return \"An error occurred during script evaluation.\""
   ]
  },
  {
   "cell_type": "code",
   "execution_count": 38,
   "metadata": {
    "colab": {
     "base_uri": "https://localhost:8080/",
     "height": 344
    },
    "id": "M-tPOFC35dHe",
    "outputId": "ff71a84a-5953-41d1-bf15-e6c8ddc8facd"
   },
   "outputs": [
    {
     "name": "stdout",
     "output_type": "stream",
     "text": [
      "Evaluation Result:\n",
      "## Evaluation:\n",
      "\n",
      "**Score: 3/10**\n",
      "\n",
      "**Explanation:**\n",
      "\n",
      "The student's answer is incorrect. While New Delhi is the actual capital of India, the student provided \"Hyderabad,\" which is the capital of the state of Telangana. \n",
      "\n",
      "The answer lacks completeness as it does not mention the correct capital city. The student's answer also fails to use any key terms from the key answer.  \n",
      "\n",
      "**Areas for Improvement:**\n",
      "\n",
      "* **Research Skills:** The student should focus on using reliable sources and double-checking information.\n",
      "* **Understanding of Key Terms:** The student should pay attention to the definitions and proper use of important terms related to the topic. \n",
      "* **Critical Thinking:** The student should learn to critically evaluate information and identify errors.\n",
      "\n",
      "**Suggestion:** Encourage the student to research the topic more thoroughly and use reliable sources like encyclopedias or reputable websites.\n"
     ]
    }
   ],
   "source": [
    "# Example usage\n",
    "question = \"What is the capital of India?\"\n",
    "key_answer = \"Hyderabad is the capital of India.\"\n",
    "student_answer = \"New Delhi is the capital of India.\"\n",
    "\n",
    "# Call the function\n",
    "evaluation = evaluate_script(model, question, student_answer, key_answer)\n",
    "\n",
    "# Print the output\n",
    "print(\"Evaluation Result:\")\n",
    "print(evaluation)"
   ]
  },
  {
   "cell_type": "code",
   "execution_count": 37,
   "metadata": {
    "colab": {
     "base_uri": "https://localhost:8080/",
     "height": 364
    },
    "id": "OZzIqyFM2_2j",
    "outputId": "79ce344c-3632-455b-a678-6262ba67da51"
   },
   "outputs": [
    {
     "name": "stdout",
     "output_type": "stream",
     "text": [
      "Evaluation Result:\n",
      "## Evaluation:\n",
      "\n",
      "**Score: 6/10**\n",
      "\n",
      "**Explanation:**\n",
      "\n",
      "The student answer correctly identifies the main components of photosynthesis (sunlight, water, and carbon dioxide) and the basic purpose (making food). However, it lacks detail and precision. The student doesn't mention the key term \"synthesis\" and doesn't specify the primary food product (glucose). \n",
      "\n",
      "**Areas for Improvement:**\n",
      "\n",
      "* **Use of key terms:** The student should include the term \"synthesis\" and mention \"glucose\" as the primary product of photosynthesis. \n",
      "* **Completeness:** The student should expand on the process by mentioning the role of chlorophyll in capturing light energy and the conversion of light energy into chemical energy stored in glucose. \n",
      "* **Clarity:** While the answer is clear in its basic explanation, a more detailed description with specific terminology would improve its clarity and accuracy.\n",
      "\n",
      "**Suggested Improvement:**\n",
      "\n",
      "\"Photosynthesis is the process by which green plants and some other organisms use sunlight to **synthesize** foods, primarily glucose, from carbon dioxide and water. This process involves chlorophyll, which captures light energy and converts it into chemical energy stored in the glucose molecules.\"\n"
     ]
    }
   ],
   "source": [
    "# Example usage\n",
    "question = \"Explain the process of photosynthesis.\"\n",
    "key_answer = \"Photosynthesis is the process by which green plants and some other organisms use sunlight to synthesize foods with the primary components being carbon dioxide and water.\"\n",
    "student_answer = \"Photosynthesis is how plants make their food using sunlight, water, and carbon dioxide.\"\n",
    "\n",
    "# Call the function\n",
    "evaluation = evaluate_script(model, question, student_answer, key_answer)\n",
    "\n",
    "# Print the output\n",
    "print(\"Evaluation Result:\")\n",
    "print(evaluation)"
   ]
  }
 ],
 "metadata": {
  "colab": {
   "provenance": []
  },
  "kernelspec": {
   "display_name": "Python 3",
   "name": "python3"
  },
  "language_info": {
   "codemirror_mode": {
    "name": "ipython",
    "version": 3
   },
   "file_extension": ".py",
   "mimetype": "text/x-python",
   "name": "python",
   "nbconvert_exporter": "python",
   "pygments_lexer": "ipython3",
   "version": "3.11.8"
  }
 },
 "nbformat": 4,
 "nbformat_minor": 0
}
